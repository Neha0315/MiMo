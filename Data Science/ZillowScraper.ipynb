{
 "cells": [
  {
   "cell_type": "markdown",
   "id": "8cd068fd-fc80-46cd-bbd8-39c407a2170e",
   "metadata": {},
   "source": [
    "## startup"
   ]
  },
  {
   "cell_type": "code",
   "execution_count": 4,
   "id": "3cd3d51a-1026-47e8-8024-8b6491830b26",
   "metadata": {},
   "outputs": [
    {
     "name": "stdout",
     "output_type": "stream",
     "text": [
      "Collecting homeharvest\n",
      "  Downloading homeharvest-0.4.3-py3-none-any.whl.metadata (6.5 kB)\n",
      "Requirement already satisfied: pandas<3.0.0,>=2.1.1 in c:\\users\\mmman\\anaconda3\\lib\\site-packages (from homeharvest) (2.2.2)\n",
      "Collecting pydantic<3.0.0,>=2.7.4 (from homeharvest)\n",
      "  Downloading pydantic-2.9.2-py3-none-any.whl.metadata (149 kB)\n",
      "     ---------------------------------------- 0.0/149.4 kB ? eta -:--:--\n",
      "     -- ------------------------------------- 10.2/149.4 kB ? eta -:--:--\n",
      "     -- ------------------------------------- 10.2/149.4 kB ? eta -:--:--\n",
      "     ---------- -------------------------- 41.0/149.4 kB 330.3 kB/s eta 0:00:01\n",
      "     ---------------------- -------------- 92.2/149.4 kB 585.1 kB/s eta 0:00:01\n",
      "     ------------------------------------ 149.4/149.4 kB 685.7 kB/s eta 0:00:00\n",
      "Requirement already satisfied: requests<3.0.0,>=2.31.0 in c:\\users\\mmman\\anaconda3\\lib\\site-packages (from homeharvest) (2.32.2)\n",
      "Requirement already satisfied: numpy>=1.26.0 in c:\\users\\mmman\\anaconda3\\lib\\site-packages (from pandas<3.0.0,>=2.1.1->homeharvest) (1.26.4)\n",
      "Requirement already satisfied: python-dateutil>=2.8.2 in c:\\users\\mmman\\anaconda3\\lib\\site-packages (from pandas<3.0.0,>=2.1.1->homeharvest) (2.9.0.post0)\n",
      "Requirement already satisfied: pytz>=2020.1 in c:\\users\\mmman\\anaconda3\\lib\\site-packages (from pandas<3.0.0,>=2.1.1->homeharvest) (2024.1)\n",
      "Requirement already satisfied: tzdata>=2022.7 in c:\\users\\mmman\\anaconda3\\lib\\site-packages (from pandas<3.0.0,>=2.1.1->homeharvest) (2023.3)\n",
      "Requirement already satisfied: annotated-types>=0.6.0 in c:\\users\\mmman\\anaconda3\\lib\\site-packages (from pydantic<3.0.0,>=2.7.4->homeharvest) (0.6.0)\n",
      "Collecting pydantic-core==2.23.4 (from pydantic<3.0.0,>=2.7.4->homeharvest)\n",
      "  Downloading pydantic_core-2.23.4-cp312-none-win_amd64.whl.metadata (6.7 kB)\n",
      "Requirement already satisfied: typing-extensions>=4.6.1 in c:\\users\\mmman\\anaconda3\\lib\\site-packages (from pydantic<3.0.0,>=2.7.4->homeharvest) (4.11.0)\n",
      "Requirement already satisfied: charset-normalizer<4,>=2 in c:\\users\\mmman\\anaconda3\\lib\\site-packages (from requests<3.0.0,>=2.31.0->homeharvest) (2.0.4)\n",
      "Requirement already satisfied: idna<4,>=2.5 in c:\\users\\mmman\\anaconda3\\lib\\site-packages (from requests<3.0.0,>=2.31.0->homeharvest) (3.7)\n",
      "Requirement already satisfied: urllib3<3,>=1.21.1 in c:\\users\\mmman\\anaconda3\\lib\\site-packages (from requests<3.0.0,>=2.31.0->homeharvest) (2.2.2)\n",
      "Requirement already satisfied: certifi>=2017.4.17 in c:\\users\\mmman\\anaconda3\\lib\\site-packages (from requests<3.0.0,>=2.31.0->homeharvest) (2024.8.30)\n",
      "Requirement already satisfied: six>=1.5 in c:\\users\\mmman\\anaconda3\\lib\\site-packages (from python-dateutil>=2.8.2->pandas<3.0.0,>=2.1.1->homeharvest) (1.16.0)\n",
      "Downloading homeharvest-0.4.3-py3-none-any.whl (18 kB)\n",
      "Downloading pydantic-2.9.2-py3-none-any.whl (434 kB)\n",
      "   ---------------------------------------- 0.0/434.9 kB ? eta -:--:--\n",
      "   ----- ---------------------------------- 61.4/434.9 kB 1.7 MB/s eta 0:00:01\n",
      "   -------- ------------------------------- 92.2/434.9 kB 1.1 MB/s eta 0:00:01\n",
      "   ---------------- ----------------------- 184.3/434.9 kB 1.4 MB/s eta 0:00:01\n",
      "   ------------------------ --------------- 266.2/434.9 kB 1.5 MB/s eta 0:00:01\n",
      "   ---------------------------------------  430.1/434.9 kB 1.8 MB/s eta 0:00:01\n",
      "   ---------------------------------------- 434.9/434.9 kB 1.7 MB/s eta 0:00:00\n",
      "Downloading pydantic_core-2.23.4-cp312-none-win_amd64.whl (1.9 MB)\n",
      "   ---------------------------------------- 0.0/1.9 MB ? eta -:--:--\n",
      "   -- ------------------------------------- 0.1/1.9 MB 3.2 MB/s eta 0:00:01\n",
      "   ----- ---------------------------------- 0.3/1.9 MB 3.4 MB/s eta 0:00:01\n",
      "   ---------- ----------------------------- 0.5/1.9 MB 3.3 MB/s eta 0:00:01\n",
      "   -------------- ------------------------- 0.7/1.9 MB 3.6 MB/s eta 0:00:01\n",
      "   ------------------- -------------------- 0.9/1.9 MB 4.2 MB/s eta 0:00:01\n",
      "   ----------------------- ---------------- 1.1/1.9 MB 3.9 MB/s eta 0:00:01\n",
      "   ---------------------------- ----------- 1.4/1.9 MB 4.1 MB/s eta 0:00:01\n",
      "   -------------------------------- ------- 1.6/1.9 MB 4.1 MB/s eta 0:00:01\n",
      "   ------------------------------------ --- 1.8/1.9 MB 4.3 MB/s eta 0:00:01\n",
      "   ---------------------------------------  1.9/1.9 MB 4.3 MB/s eta 0:00:01\n",
      "   ---------------------------------------- 1.9/1.9 MB 4.1 MB/s eta 0:00:00\n",
      "Installing collected packages: pydantic-core, pydantic, homeharvest\n",
      "  Attempting uninstall: pydantic-core\n",
      "    Found existing installation: pydantic_core 2.14.6\n",
      "    Uninstalling pydantic_core-2.14.6:\n",
      "      Successfully uninstalled pydantic_core-2.14.6\n",
      "  Attempting uninstall: pydantic\n",
      "    Found existing installation: pydantic 2.5.3\n",
      "    Uninstalling pydantic-2.5.3:\n",
      "      Successfully uninstalled pydantic-2.5.3\n",
      "Successfully installed homeharvest-0.4.3 pydantic-2.9.2 pydantic-core-2.23.4\n",
      "Note: you may need to restart the kernel to use updated packages.\n"
     ]
    }
   ],
   "source": [
    "pip install homeharvest"
   ]
  },
  {
   "cell_type": "code",
   "execution_count": 8,
   "id": "40267664-8c2c-45bf-8118-cfe449fe031a",
   "metadata": {},
   "outputs": [
    {
     "name": "stdout",
     "output_type": "stream",
     "text": [
      "Number of properties: 394\n",
      "                                        property_url property_id  listing_id  \\\n",
      "0  https://www.realtor.com/rentals/details/3818-J...  9784416758  2973279857   \n",
      "1  https://www.realtor.com/rentals/details/17205-...  4511959785  2973287722   \n",
      "2  https://www.realtor.com/rentals/details/1079-E...  9481543019  2973283498   \n",
      "3  https://www.realtor.com/rentals/details/787-Lo...  9833605896  2973268476   \n",
      "4  https://www.realtor.com/rentals/details/1434-W...  9190105426  2973256778   \n",
      "\n",
      "    mls    mls_id    status  \\\n",
      "0  NEOH   5075465  FOR_RENT   \n",
      "1  NEOH   5075529  FOR_RENT   \n",
      "2  NEOH   5075502  FOR_RENT   \n",
      "3  AVAL  61200520  FOR_RENT   \n",
      "4  RENU  r3773772  FOR_RENT   \n",
      "\n",
      "                                                text          style  \\\n",
      "0  Available December in the HEART of Ohio City! ...   MULTI_FAMILY   \n",
      "1  17205 Lipton Ave, Cleveland - Spacious 3 bed 1...  SINGLE_FAMILY   \n",
      "2  1079 E 171ST ST| UNIT 1, Cleveland- Spacious 2...   MULTI_FAMILY   \n",
      "3  Amazing 1 bedroom, 1 bathroom apartment in Cle...      APARTMENT   \n",
      "4  Welcome to this charming apartment located at ...      APARTMENT   \n",
      "\n",
      "         full_street_line            street  ... builder_id builder_name  \\\n",
      "0           3818 John Ave     3818 John Ave  ...       <NA>         <NA>   \n",
      "1        17205 Lipton Ave  17205 Lipton Ave  ...       <NA>         <NA>   \n",
      "2  1079 E 171st St Unit 1   1079 E 171st St  ...       <NA>         <NA>   \n",
      "3     787 London Rd Apt 3     787 London Rd  ...       <NA>         <NA>   \n",
      "4   1434 W 112th St Apt 2   1434 W 112th St  ...       <NA>         <NA>   \n",
      "\n",
      "  office_id office_mls_set                                        office_name  \\\n",
      "0   3808391   O-NEOH-20191  Berkshire Hathaway HomeServices Professional R...   \n",
      "1    995977    O-NEOH-2486                                RE MAX Haven Realty   \n",
      "2    995977    O-NEOH-2486                                RE MAX Haven Realty   \n",
      "3      <NA>           <NA>                                               <NA>   \n",
      "4      <NA>           <NA>                                               <NA>   \n",
      "\n",
      "       office_email                                      office_phones  \\\n",
      "0  info@bhhspro.com  [{'number': '2169700164', 'type': 'Office', 'p...   \n",
      "1  ngolem@remax.net  [{'number': '(440) 519-3100', 'type': 'Office'...   \n",
      "2  ngolem@remax.net  [{'number': '(440) 519-3100', 'type': 'Office'...   \n",
      "3              <NA>                                               <NA>   \n",
      "4              <NA>                                               <NA>   \n",
      "\n",
      "                                      nearby_schools  \\\n",
      "0  Cleveland Metropolitan School District, Freder...   \n",
      "1  Cleveland Metropolitan School District, T2 Hon...   \n",
      "2  Lakeshore Intergenerational School, Cleveland ...   \n",
      "3  Cleveland Metropolitan School District, East A...   \n",
      "4  Lakewood City Academy, Cleveland Metropolitan ...   \n",
      "\n",
      "                                       primary_photo  \\\n",
      "0  http://ap.rdcpix.com/9dd158fcfc3afd13f2bca892f...   \n",
      "1  http://ap.rdcpix.com/808a4026af13756eb120ca8ed...   \n",
      "2  http://ap.rdcpix.com/0819981e2ce04a0b455ff6a03...   \n",
      "3  http://ap.rdcpix.com/635d5860ce26f5ecd25ae42f6...   \n",
      "4                                               <NA>   \n",
      "\n",
      "                                          alt_photos  \n",
      "0  http://ap.rdcpix.com/9dd158fcfc3afd13f2bca892f...  \n",
      "1  http://ap.rdcpix.com/808a4026af13756eb120ca8ed...  \n",
      "2  http://ap.rdcpix.com/0819981e2ce04a0b455ff6a03...  \n",
      "3  http://ap.rdcpix.com/635d5860ce26f5ecd25ae42f6...  \n",
      "4                                               <NA>  \n",
      "\n",
      "[5 rows x 57 columns]\n"
     ]
    }
   ],
   "source": [
    "from homeharvest import scrape_property\n",
    "from datetime import datetime\n",
    "\n",
    "# Generate filename based on current timestamp\n",
    "current_timestamp = datetime.now().strftime(\"%Y%m%d_%H%M%S\")\n",
    "filename = f\"./HomeHarvest_Past90Days_{current_timestamp}.csv\"\n",
    "\n",
    "properties = scrape_property(\n",
    "  location=\"Cleveland, OH\",\n",
    "  listing_type=\"for_rent\",  # or (for_sale, for_rent, pending)\n",
    "  past_days=90,  # sold in last 30 days - listed in last 30 days if (for_sale, for_rent)\n",
    "\n",
    "  # date_from=\"2023-05-01\", # alternative to past_days\n",
    "  # date_to=\"2023-05-28\",\n",
    "  # foreclosure=True\n",
    "  # mls_only=True,  # only fetch MLS listings\n",
    ")\n",
    "print(f\"Number of properties: {len(properties)}\")\n",
    "\n",
    "# Export to csv\n",
    "properties.to_csv(filename, index=False)\n",
    "print(properties.head())"
   ]
  },
  {
   "cell_type": "code",
   "execution_count": 5,
   "id": "e9c995dc-7aac-481f-9130-77bcc9c8e1c0",
   "metadata": {},
   "outputs": [
    {
     "data": {
      "text/plain": [
       "Index(['property_url', 'property_id', 'listing_id', 'mls', 'mls_id', 'status',\n",
       "       'text', 'style', 'full_street_line', 'street', 'unit', 'city', 'state',\n",
       "       'zip_code', 'beds', 'full_baths', 'half_baths', 'sqft', 'year_built',\n",
       "       'days_on_mls', 'list_price', 'list_price_min', 'list_price_max',\n",
       "       'list_date', 'sold_price', 'last_sold_date', 'assessed_value',\n",
       "       'estimated_value', 'new_construction', 'lot_sqft', 'price_per_sqft',\n",
       "       'latitude', 'longitude', 'neighborhoods', 'county', 'fips_code',\n",
       "       'stories', 'hoa_fee', 'parking_garage', 'agent_id', 'agent_name',\n",
       "       'agent_email', 'agent_phones', 'agent_mls_set', 'agent_nrds_id',\n",
       "       'broker_id', 'broker_name', 'builder_id', 'builder_name', 'office_id',\n",
       "       'office_mls_set', 'office_name', 'office_email', 'office_phones',\n",
       "       'nearby_schools', 'primary_photo', 'alt_photos'],\n",
       "      dtype='object')"
      ]
     },
     "execution_count": 5,
     "metadata": {},
     "output_type": "execute_result"
    }
   ],
   "source": [
    "properties.columns"
   ]
  },
  {
   "cell_type": "code",
   "execution_count": 7,
   "id": "7ffef78a-83b3-481c-ab32-7d0121fa9ef5",
   "metadata": {},
   "outputs": [
    {
     "name": "stdout",
     "output_type": "stream",
     "text": [
      "                                                text          style  \\\n",
      "0  Fantastic 2 bedroom Cape Cod on a private lot ...  SINGLE_FAMILY   \n",
      "1  Extension 4161 - For interested prospects, ple...  SINGLE_FAMILY   \n",
      "2  Clean, affordable studio apartment located on ...   MULTI_FAMILY   \n",
      "3  CMHA / EDEN TENANT with 2BD VOUCHER is PREFERR...         CONDOS   \n",
      "4  Just exceptional. The perfect Downtown living....  SINGLE_FAMILY   \n",
      "\n",
      "          full_street_line       city state zip_code beds full_baths  \\\n",
      "0         5923 Edgewood Rd  Cleveland    OH    44124    2          1   \n",
      "1  2112 Hurley Ave Unit 2F  Cleveland    OH    44109    1          1   \n",
      "2   8208 Denison Ave Apt 2  Cleveland    OH    44102    1          1   \n",
      "3    3318 E 140th St Apt 1  Cleveland    OH    44120    2          1   \n",
      "4      1403 E Superior Ave  Cleveland    OH    44113    3          3   \n",
      "\n",
      "  half_baths  sqft  ... list_price_max   list_date sold_price last_sold_date  \\\n",
      "0       <NA>  <NA>  ...           <NA>  2024-09-17      48500     1979-08-23   \n",
      "1       <NA>   956  ...           <NA>  2024-09-16       <NA>           <NA>   \n",
      "2       <NA>  <NA>  ...           <NA>  2024-09-16       <NA>           <NA>   \n",
      "3       <NA>  1200  ...           <NA>  2024-09-16       <NA>           <NA>   \n",
      "4          2  2866  ...           <NA>  2024-09-16     758080     2022-07-12   \n",
      "\n",
      "  assessed_value price_per_sqft   latitude  longitude  hoa_fee  parking_garage  \n",
      "0          47120           <NA>  41.528935 -81.466089        0            <NA>  \n",
      "1           <NA>              1  41.449593 -81.697350     <NA>            <NA>  \n",
      "2           <NA>           <NA>  41.463673 -81.741768        0               1  \n",
      "3           <NA>              1  41.469437 -81.585022     <NA>            <NA>  \n",
      "4           <NA>              2  41.504654 -81.684192        0               2  \n",
      "\n",
      "[5 rows x 22 columns]\n"
     ]
    }
   ],
   "source": [
    "prop_imp = properties[['text', 'style', 'full_street_line', 'city', 'state', 'zip_code', 'beds', 'full_baths', 'half_baths', 'sqft', 'list_price', 'list_price_min', 'list_price_max', 'list_date', 'sold_price', 'last_sold_date', 'assessed_value', 'price_per_sqft', 'latitude', 'longitude', 'hoa_fee', 'parking_garage']]\n",
    "print(prop_imp.head())"
   ]
  }
 ],
 "metadata": {
  "kernelspec": {
   "display_name": "Python 3 (ipykernel)",
   "language": "python",
   "name": "python3"
  },
  "language_info": {
   "codemirror_mode": {
    "name": "ipython",
    "version": 3
   },
   "file_extension": ".py",
   "mimetype": "text/x-python",
   "name": "python",
   "nbconvert_exporter": "python",
   "pygments_lexer": "ipython3",
   "version": "3.12.4"
  }
 },
 "nbformat": 4,
 "nbformat_minor": 5
}
