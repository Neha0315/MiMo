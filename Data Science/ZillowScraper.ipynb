{
 "cells": [
  {
   "cell_type": "markdown",
   "id": "8cd068fd-fc80-46cd-bbd8-39c407a2170e",
   "metadata": {},
   "source": [
    "## startup"
   ]
  },
  {
   "cell_type": "code",
   "execution_count": 1,
   "id": "40267664-8c2c-45bf-8118-cfe449fe031a",
   "metadata": {},
   "outputs": [
    {
     "name": "stdout",
     "output_type": "stream",
     "text": [
      "Number of properties: 176\n",
      "                                        property_url property_id  listing_id  \\\n",
      "0  https://www.realtor.com/rentals/details/5923-E...  4831054050  2972214891   \n",
      "1  https://www.realtor.com/rentals/details/2112-H...  9567839851  2972177785   \n",
      "2  https://www.realtor.com/rentals/details/8208-D...  9810263609  2972150690   \n",
      "3  https://www.realtor.com/rentals/details/3318-E...  9813589300  2972177311   \n",
      "4  https://www.realtor.com/rentals/details/1403-S...  9198887881  2972173303   \n",
      "\n",
      "    mls    mls_id    status  \\\n",
      "0  NEOH   5070340  FOR_RENT   \n",
      "1  ZUMU  59100060  FOR_RENT   \n",
      "2  NEOH   5070359  FOR_RENT   \n",
      "3  TRBO   1445086  FOR_RENT   \n",
      "4  NEOH   5070593  FOR_RENT   \n",
      "\n",
      "                                                text          style  \\\n",
      "0  Fantastic 2 bedroom Cape Cod on a private lot ...  SINGLE_FAMILY   \n",
      "1  Extension 4161 - For interested prospects, ple...  SINGLE_FAMILY   \n",
      "2  Clean, affordable studio apartment located on ...   MULTI_FAMILY   \n",
      "3  CMHA / EDEN TENANT with 2BD VOUCHER is PREFERR...         CONDOS   \n",
      "4  Just exceptional. The perfect Downtown living....  SINGLE_FAMILY   \n",
      "\n",
      "          full_street_line               street  ... builder_id builder_name  \\\n",
      "0         5923 Edgewood Rd     5923 Edgewood Rd  ...       <NA>         <NA>   \n",
      "1  2112 Hurley Ave Unit 2F      2112 Hurley Ave  ...       <NA>         <NA>   \n",
      "2   8208 Denison Ave Apt 2     8208 Denison Ave  ...       <NA>         <NA>   \n",
      "3    3318 E 140th St Apt 1      3318 E 140th St  ...       <NA>         <NA>   \n",
      "4      1403 E Superior Ave  1403 E Superior Ave  ...       <NA>         <NA>   \n",
      "\n",
      "  office_id office_mls_set                     office_name  \\\n",
      "0      <NA>    O-NEOH-9177             Acacia Realty, Llc.   \n",
      "1      <NA>           <NA>                            <NA>   \n",
      "2   1171379  O-NEOH-C88880  Keller Williams Chervenic Rlty   \n",
      "3      <NA>           <NA>                            <NA>   \n",
      "4   1403860    O-NEOH-9865        RE/MAX Real Estate Group   \n",
      "\n",
      "                   office_email  \\\n",
      "0  globalstrategies@hotmail.com   \n",
      "1                          <NA>   \n",
      "2             dchervenic@kw.com   \n",
      "3                          <NA>   \n",
      "4      mikewallace@realtyxo.com   \n",
      "\n",
      "                                       office_phones  \\\n",
      "0  [{'number': '(216) 650-2038', 'type': 'Mobile'...   \n",
      "1                                               <NA>   \n",
      "2  [{'number': '3306861644', 'type': 'Office', 'p...   \n",
      "3                                               <NA>   \n",
      "4  [{'number': '4403331230', 'type': 'Office', 'p...   \n",
      "\n",
      "                                      nearby_schools  \\\n",
      "0  Euclid Preparatory School, Mayfield City Schoo...   \n",
      "1  Cleveland Metropolitan School District, Horizo...   \n",
      "2  Cleveland Metropolitan School District, Conste...   \n",
      "3  Wings Academy 2, Cleveland Metropolitan School...   \n",
      "4  Cleveland Metropolitan School District, Promis...   \n",
      "\n",
      "                                       primary_photo  \\\n",
      "0  http://ap.rdcpix.com/dd75f5eeb5b99fb30f1143899...   \n",
      "1                                               <NA>   \n",
      "2  http://ap.rdcpix.com/e8a5fbf3dc07404990f528c6f...   \n",
      "3  http://ap.rdcpix.com/80d2109d83b21d8277718d677...   \n",
      "4  http://ap.rdcpix.com/a8be01909fabaeff2bc9dd8fe...   \n",
      "\n",
      "                                          alt_photos  \n",
      "0  http://ap.rdcpix.com/dd75f5eeb5b99fb30f1143899...  \n",
      "1                                               <NA>  \n",
      "2  http://ap.rdcpix.com/e8a5fbf3dc07404990f528c6f...  \n",
      "3  http://ap.rdcpix.com/80d2109d83b21d8277718d677...  \n",
      "4  http://ap.rdcpix.com/a8be01909fabaeff2bc9dd8fe...  \n",
      "\n",
      "[5 rows x 57 columns]\n"
     ]
    }
   ],
   "source": [
    "from homeharvest import scrape_property\n",
    "from datetime import datetime\n",
    "\n",
    "# Generate filename based on current timestamp\n",
    "current_timestamp = datetime.now().strftime(\"%Y%m%d_%H%M%S\")\n",
    "filename = f\"HomeHarvest_{current_timestamp}.csv\"\n",
    "\n",
    "properties = scrape_property(\n",
    "  location=\"Cleveland, OH\",\n",
    "  listing_type=\"for_rent\",  # or (for_sale, for_rent, pending)\n",
    "  past_days=30,  # sold in last 30 days - listed in last 30 days if (for_sale, for_rent)\n",
    "\n",
    "  # date_from=\"2023-05-01\", # alternative to past_days\n",
    "  # date_to=\"2023-05-28\",\n",
    "  # foreclosure=True\n",
    "  # mls_only=True,  # only fetch MLS listings\n",
    ")\n",
    "print(f\"Number of properties: {len(properties)}\")\n",
    "\n",
    "# Export to csv\n",
    "properties.to_csv(filename, index=False)\n",
    "print(properties.head())"
   ]
  },
  {
   "cell_type": "code",
   "execution_count": 5,
   "id": "e9c995dc-7aac-481f-9130-77bcc9c8e1c0",
   "metadata": {},
   "outputs": [
    {
     "data": {
      "text/plain": [
       "Index(['property_url', 'property_id', 'listing_id', 'mls', 'mls_id', 'status',\n",
       "       'text', 'style', 'full_street_line', 'street', 'unit', 'city', 'state',\n",
       "       'zip_code', 'beds', 'full_baths', 'half_baths', 'sqft', 'year_built',\n",
       "       'days_on_mls', 'list_price', 'list_price_min', 'list_price_max',\n",
       "       'list_date', 'sold_price', 'last_sold_date', 'assessed_value',\n",
       "       'estimated_value', 'new_construction', 'lot_sqft', 'price_per_sqft',\n",
       "       'latitude', 'longitude', 'neighborhoods', 'county', 'fips_code',\n",
       "       'stories', 'hoa_fee', 'parking_garage', 'agent_id', 'agent_name',\n",
       "       'agent_email', 'agent_phones', 'agent_mls_set', 'agent_nrds_id',\n",
       "       'broker_id', 'broker_name', 'builder_id', 'builder_name', 'office_id',\n",
       "       'office_mls_set', 'office_name', 'office_email', 'office_phones',\n",
       "       'nearby_schools', 'primary_photo', 'alt_photos'],\n",
       "      dtype='object')"
      ]
     },
     "execution_count": 5,
     "metadata": {},
     "output_type": "execute_result"
    }
   ],
   "source": [
    "properties.columns"
   ]
  },
  {
   "cell_type": "code",
   "execution_count": 7,
   "id": "7ffef78a-83b3-481c-ab32-7d0121fa9ef5",
   "metadata": {},
   "outputs": [
    {
     "name": "stdout",
     "output_type": "stream",
     "text": [
      "                                                text          style  \\\n",
      "0  Fantastic 2 bedroom Cape Cod on a private lot ...  SINGLE_FAMILY   \n",
      "1  Extension 4161 - For interested prospects, ple...  SINGLE_FAMILY   \n",
      "2  Clean, affordable studio apartment located on ...   MULTI_FAMILY   \n",
      "3  CMHA / EDEN TENANT with 2BD VOUCHER is PREFERR...         CONDOS   \n",
      "4  Just exceptional. The perfect Downtown living....  SINGLE_FAMILY   \n",
      "\n",
      "          full_street_line       city state zip_code beds full_baths  \\\n",
      "0         5923 Edgewood Rd  Cleveland    OH    44124    2          1   \n",
      "1  2112 Hurley Ave Unit 2F  Cleveland    OH    44109    1          1   \n",
      "2   8208 Denison Ave Apt 2  Cleveland    OH    44102    1          1   \n",
      "3    3318 E 140th St Apt 1  Cleveland    OH    44120    2          1   \n",
      "4      1403 E Superior Ave  Cleveland    OH    44113    3          3   \n",
      "\n",
      "  half_baths  sqft  ... list_price_max   list_date sold_price last_sold_date  \\\n",
      "0       <NA>  <NA>  ...           <NA>  2024-09-17      48500     1979-08-23   \n",
      "1       <NA>   956  ...           <NA>  2024-09-16       <NA>           <NA>   \n",
      "2       <NA>  <NA>  ...           <NA>  2024-09-16       <NA>           <NA>   \n",
      "3       <NA>  1200  ...           <NA>  2024-09-16       <NA>           <NA>   \n",
      "4          2  2866  ...           <NA>  2024-09-16     758080     2022-07-12   \n",
      "\n",
      "  assessed_value price_per_sqft   latitude  longitude  hoa_fee  parking_garage  \n",
      "0          47120           <NA>  41.528935 -81.466089        0            <NA>  \n",
      "1           <NA>              1  41.449593 -81.697350     <NA>            <NA>  \n",
      "2           <NA>           <NA>  41.463673 -81.741768        0               1  \n",
      "3           <NA>              1  41.469437 -81.585022     <NA>            <NA>  \n",
      "4           <NA>              2  41.504654 -81.684192        0               2  \n",
      "\n",
      "[5 rows x 22 columns]\n"
     ]
    }
   ],
   "source": [
    "prop_imp = properties[['text', 'style', 'full_street_line', 'city', 'state', 'zip_code', 'beds', 'full_baths', 'half_baths', 'sqft', 'list_price', 'list_price_min', 'list_price_max', 'list_date', 'sold_price', 'last_sold_date', 'assessed_value', 'price_per_sqft', 'latitude', 'longitude', 'hoa_fee', 'parking_garage']]\n",
    "print(prop_imp.head())"
   ]
  }
 ],
 "metadata": {
  "kernelspec": {
   "display_name": "Python 3 (ipykernel)",
   "language": "python",
   "name": "python3"
  },
  "language_info": {
   "codemirror_mode": {
    "name": "ipython",
    "version": 3
   },
   "file_extension": ".py",
   "mimetype": "text/x-python",
   "name": "python",
   "nbconvert_exporter": "python",
   "pygments_lexer": "ipython3",
   "version": "3.11.4"
  }
 },
 "nbformat": 4,
 "nbformat_minor": 5
}
